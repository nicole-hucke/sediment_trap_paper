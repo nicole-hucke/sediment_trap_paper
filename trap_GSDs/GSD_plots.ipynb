{
 "cells": [
  {
   "cell_type": "markdown",
   "metadata": {},
   "source": [
    "## Plotting GSDs for all basket trap pairs"
   ]
  },
  {
   "cell_type": "markdown",
   "metadata": {},
   "source": [
    "Importing Libraries"
   ]
  },
  {
   "cell_type": "code",
   "execution_count": 1,
   "metadata": {},
   "outputs": [],
   "source": [
    "import matplotlib.pyplot as plt\n",
    "import matplotlib.cm as cm\n",
    "import numpy as np\n",
    "import pandas as pd\n",
    "from scipy.stats import wasserstein_distance\n",
    "import seaborn as sns\n",
    "import os"
   ]
  },
  {
   "cell_type": "markdown",
   "metadata": {},
   "source": [
    "Defining Functions"
   ]
  },
  {
   "cell_type": "code",
   "execution_count": 2,
   "metadata": {},
   "outputs": [],
   "source": [
    "# removing outlier GSDs\n",
    "def remove_outlier_gsd(matrix):\n",
    "    # calculating representative sizes\n",
    "    matrix_d16 = np.percentile(matrix, 16, axis=0)\n",
    "    matrix_d50 = np.percentile(matrix, 50, axis=0)\n",
    "    matrix_d84 = np.percentile(matrix, 84, axis=0)\n",
    "    # calculating Quartile 1\n",
    "    tempCalc1 = np.percentile(matrix_d16, 25)\n",
    "    tempCalc2 = np.percentile(matrix_d50, 25)\n",
    "    tempCalc3 = np.percentile(matrix_d84, 25)\n",
    "    matrix_q1 = np.array((tempCalc1, tempCalc2, tempCalc3)) # d16, d50, d84\n",
    "    # calculating Quartile 3\n",
    "    tempCalc1 = np.percentile(matrix_d16, 75)\n",
    "    tempCalc2 = np.percentile(matrix_d50, 75)\n",
    "    tempCalc3 = np.percentile(matrix_d84, 75)\n",
    "    matrix_q3 = np.array((tempCalc1, tempCalc2, tempCalc3)) # d16, d50, d84\n",
    "    # calculating IQR and lower/upper bounds\n",
    "    spring_wc_IQR = matrix_q3 - matrix_q1\n",
    "    lower_bound = matrix_q1 - 1.5*spring_wc_IQR\n",
    "    upper_bound = matrix_q3 + 1.5*spring_wc_IQR\n",
    "    # identifying GSDs with representative sizes outside the range\n",
    "    tempBool1 = np.where(matrix_d16 < lower_bound[0], True, False)\n",
    "    tempBool2 = np.where(matrix_d50 < lower_bound[1], True, False)\n",
    "    tempBool3 = np.where(matrix_d84 < lower_bound[2], True, False)\n",
    "    tempBool1 + tempBool2 + tempBool3\n",
    "    np.arange(len(tempBool1))[tempBool1 + tempBool2 + tempBool3]\n",
    "    # identifying GSDs with representative sizes outside the range\n",
    "    tempBool4 = np.where(matrix_d16 > upper_bound[0], True, False)\n",
    "    tempBool5 = np.where(matrix_d50 > upper_bound[1], True, False)\n",
    "    tempBool6 = np.where(matrix_d84 > upper_bound[2], True, False)\n",
    "    tempBool4 + tempBool5 + tempBool6\n",
    "    np.arange(len(tempBool4))[tempBool4 + tempBool5 + tempBool6]\n",
    "    # deleting outlier GSDs\n",
    "    tempCalc1 = np.arange(len(tempBool1))[tempBool1 + tempBool2 + tempBool3 + tempBool4 + tempBool5 + tempBool6]\n",
    "    tempCalc2 = np.delete(matrix, tempCalc1, axis=1)\n",
    "    \n",
    "    return tempCalc2"
   ]
  },
  {
   "cell_type": "markdown",
   "metadata": {},
   "source": [
    "Improting Data"
   ]
  },
  {
   "cell_type": "code",
   "execution_count": 3,
   "metadata": {},
   "outputs": [],
   "source": [
    "# checking environment and working directory\n",
    "os.getcwd()\n",
    "working_directory = \"C:/Users/huck4481/Documents/GitHub/sediment_trap_paper/trap_GSDs/\"\n",
    "os.chdir(working_directory)\n",
    "\n",
    "# filenames and directories\n",
    "results_directory = \"./plots\"\n",
    "filename1 = \"./fines/SM23_percentages.csv\"\n",
    "filename2 = \"./combined/SM23_percentages_combined.csv\"\n",
    "filename3 = \"./fines/SP23_percentages.csv\"\n",
    "filename4 = \"./combined/SP23_percentages_combined.csv\"\n",
    "\n",
    "# reading files\n",
    "dataframe1 = pd.read_csv(filename1)\n",
    "dataframe2 = pd.read_csv(filename2)\n",
    "dataframe3 = pd.read_csv(filename3)\n",
    "dataframe4 = pd.read_csv(filename4)\n",
    "\n",
    "# getting information\n",
    "grain_sizes = np.array(dataframe1.iloc[:-1, 0])\n",
    "proportion1 = np.array(dataframe1.iloc[:-1, 1:]) # summer fines\n",
    "proportion2 = np.array(dataframe2.iloc[:-1, 1:]) # summer combined\n",
    "proportion3 = np.array(dataframe3.iloc[:-1, 1:]) # spring fines\n",
    "proportion4 = np.array(dataframe4.iloc[:-1, 1:]) # spring combined"
   ]
  },
  {
   "cell_type": "markdown",
   "metadata": {},
   "source": [
    "Calculations"
   ]
  },
  {
   "cell_type": "code",
   "execution_count": null,
   "metadata": {},
   "outputs": [],
   "source": [
    "# calculating cumulative sum\n",
    "summer_fine_gsd = np.cumsum(proportion1, axis=0)\n",
    "summer_combined_gsd = np.cumsum(proportion2, axis=0)\n",
    "spring_fine_gsd = np.cumsum(proportion3, axis=0)\n",
    "spring_combined_gsd = np.cumsum(proportion4, axis=0)\n",
    "\n",
    "# calculating max, avg and min GSDs of the baskets\n",
    "# summer\n",
    "sm_fine_gsd_max = pd.DataFrame(np.max(summer_fine_gsd, axis=1))\n",
    "sm_fine_gsd_avg = pd.DataFrame(np.mean(summer_fine_gsd, axis=1))\n",
    "sm_fine_gsd_min = pd.DataFrame(np.min(summer_fine_gsd, axis=1))\n",
    "sm_combined_gsd_max = pd.DataFrame(np.max(summer_combined_gsd, axis=1))\n",
    "sm_combined_gsd_avg = pd.DataFrame(np.mean(summer_combined_gsd, axis=1))\n",
    "sm_combined_gsd_min = pd.DataFrame(np.min(summer_combined_gsd, axis=1))\n",
    "# spring\n",
    "sp_fine_gsd_max = pd.DataFrame(np.max(spring_fine_gsd, axis=1))\n",
    "sp_fine_gsd_avg = pd.DataFrame(np.mean(spring_fine_gsd, axis=1))\n",
    "sp_fine_gsd_min = pd.DataFrame(np.min(spring_fine_gsd, axis=1))\n",
    "sp_combined_gsd_max = pd.DataFrame(np.max(spring_combined_gsd, axis=1))\n",
    "sp_combined_gsd_avg = pd.DataFrame(np.mean(spring_combined_gsd, axis=1))\n",
    "sp_combined_gsd_min = pd.DataFrame(np.min(spring_combined_gsd, axis=1))\n",
    "\n",
    "# convert to pandas dataframe\n",
    "summer_fine_gsd = pd.DataFrame(summer_fine_gsd)\n",
    "summer_combined_gsd = pd.DataFrame(summer_combined_gsd)\n",
    "spring_fine_gsd = pd.DataFrame(spring_fine_gsd)\n",
    "spring_combined_gsd = pd.DataFrame(spring_combined_gsd)\n",
    "\n",
    "# column names of dataframes are the same as the ones from dataframe1, 2, 3 and 4\n",
    "summer_fine_gsd.columns = dataframe2.columns[1:]\n",
    "summer_combined_gsd.columns = dataframe2.columns[1:]\n",
    "summer_st_gsd.columns = dataframe4.columns[1:]\n",
    "\n",
    "# add max, avg and min GSDs to the dataframes as new columns\n",
    "spring_wc_gsd[\"max\"] = spring_wc_gsd_max\n",
    "spring_wc_gsd[\"avg\"] = spring_wc_gsd_avg\n",
    "spring_wc_gsd[\"min\"] = spring_wc_gsd_min\n",
    "summer_wc_gsd[\"max\"] = summer_wc_gsd_max\n",
    "summer_wc_gsd[\"avg\"] = summer_wc_gsd_avg\n",
    "summer_wc_gsd[\"min\"] = summer_wc_gsd_min\n",
    "\n",
    "# make the index of the dataframes the values in grain_sizes array\n",
    "spring_wc_gsd.index = grain_sizes\n",
    "spring_st_gsd.index = grain_sizes\n",
    "summer_wc_gsd.index = grain_sizes\n",
    "summer_st_gsd.index = grain_sizes"
   ]
  }
 ],
 "metadata": {
  "kernelspec": {
   "display_name": "Python 3",
   "language": "python",
   "name": "python3"
  },
  "language_info": {
   "codemirror_mode": {
    "name": "ipython",
    "version": 3
   },
   "file_extension": ".py",
   "mimetype": "text/x-python",
   "name": "python",
   "nbconvert_exporter": "python",
   "pygments_lexer": "ipython3",
   "version": "3.9.10"
  }
 },
 "nbformat": 4,
 "nbformat_minor": 2
}
