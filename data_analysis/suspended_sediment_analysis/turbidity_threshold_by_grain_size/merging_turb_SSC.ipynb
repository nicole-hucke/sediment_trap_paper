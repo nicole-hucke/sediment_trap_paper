{
 "cells": [
  {
   "cell_type": "markdown",
   "id": "27dffd72",
   "metadata": {},
   "source": [
    "### Merging turbidity to SSC samples"
   ]
  },
  {
   "cell_type": "code",
   "execution_count": 1,
   "id": "29f94c53",
   "metadata": {},
   "outputs": [],
   "source": [
    "import pandas as pd\n",
    "import numpy as np\n",
    "# import data from csv, Date_Time column as index\n",
    "spring_SSC = pd.read_csv('../../../data/SSC/corrected_SSC/samples_spring_SSC_corrected.csv', parse_dates=['Date_Time'], index_col='Date_Time')\n",
    "summer_SSC = pd.read_csv('../../../data/SSC/corrected_SSC/samples_summer_SSC_corrected.csv', parse_dates=['Date_Time'], index_col='Date_Time')\n",
    "spring_turbidity = pd.read_csv('../../../data/SSC/turb_SP23_clean_complete.csv', parse_dates=['Date_Time'], index_col='Date_Time')\n",
    "summer_turbidity = pd.read_csv('../../../data/SSC/turb_SM23_clean_complete.csv', parse_dates=['Date_Time'], index_col='Date_Time')"
   ]
  },
  {
   "cell_type": "code",
   "execution_count": 2,
   "id": "2435eac7",
   "metadata": {},
   "outputs": [
    {
     "name": "stdout",
     "output_type": "stream",
     "text": [
      "Spring turbidity duplicates: 0\n",
      "Summer turbidity duplicates: 47\n",
      "Spring turbidity duplicates: 0\n",
      "Summer turbidity duplicates: 0\n"
     ]
    }
   ],
   "source": [
    "# check for and remove duplicate datetime indices\n",
    "print(\"Spring turbidity duplicates:\", spring_turbidity.index.duplicated().sum())\n",
    "print(\"Summer turbidity duplicates:\", summer_turbidity.index.duplicated().sum())\n",
    "# remove duplicates by keeping the first occurrence\n",
    "spring_turbidity = spring_turbidity[~spring_turbidity.index.duplicated(keep='first')]\n",
    "summer_turbidity = summer_turbidity[~summer_turbidity.index.duplicated(keep='first')]\n",
    "print(\"Spring turbidity duplicates:\", spring_turbidity.index.duplicated().sum())\n",
    "print(\"Summer turbidity duplicates:\", summer_turbidity.index.duplicated().sum())"
   ]
  },
  {
   "cell_type": "code",
   "execution_count": 3,
   "id": "e78cbd9c",
   "metadata": {},
   "outputs": [],
   "source": [
    "# resample to 1 min intervals \n",
    "spring_turbidity = spring_turbidity.resample('1min').mean().interpolate()\n",
    "summer_turbidity = summer_turbidity.resample('1min').mean().interpolate()"
   ]
  },
  {
   "cell_type": "code",
   "execution_count": 4,
   "id": "858c6e33",
   "metadata": {},
   "outputs": [],
   "source": [
    "# merge SSC and turbidity data on Date_Time index of SSC data\n",
    "spring_merged = pd.merge(spring_SSC, spring_turbidity, left_index=True, right_index=True, how='inner')\n",
    "summer_merged = pd.merge(summer_SSC, summer_turbidity, left_index=True, right_index=True, how='inner')"
   ]
  },
  {
   "cell_type": "code",
   "execution_count": 5,
   "id": "0aba28ee",
   "metadata": {},
   "outputs": [],
   "source": [
    "# export as csv\n",
    "spring_merged.to_csv('spring_merged_SSC_turbidity.csv')\n",
    "summer_merged.to_csv('summer_merged_SSC_turbidity.csv')"
   ]
  }
 ],
 "metadata": {
  "kernelspec": {
   "display_name": "Python 3",
   "language": "python",
   "name": "python3"
  },
  "language_info": {
   "codemirror_mode": {
    "name": "ipython",
    "version": 3
   },
   "file_extension": ".py",
   "mimetype": "text/x-python",
   "name": "python",
   "nbconvert_exporter": "python",
   "pygments_lexer": "ipython3",
   "version": "3.9.10"
  }
 },
 "nbformat": 4,
 "nbformat_minor": 5
}
