{
 "cells": [
  {
   "cell_type": "code",
   "execution_count": 5,
   "id": "d6bb5bb6",
   "metadata": {},
   "outputs": [],
   "source": [
    "# this notebook is to merge discharge and concentration data \n",
    "import pandas as pd\n",
    "import numpy as np\n",
    "import os\n",
    "\n",
    "# import discharge and concentration data\n",
    "discharge = pd.read_csv('../discharge/discharge_2023.csv', parse_dates=True, index_col='Date_Time') # in m3/s\n",
    "SSC_spring = pd.read_csv('samples_spring_SSC.csv', parse_dates=True, index_col='Date_Time') # in mg/L\n",
    "SSC_summer = pd.read_csv('samples_summer_SSC.csv', parse_dates=True, index_col='Date_Time') # in mg/L\n",
    "\n",
    "# interpolate to have discharge every 1min\n",
    "discharge = discharge.resample('1min').mean().interpolate(method='linear') "
   ]
  },
  {
   "cell_type": "code",
   "execution_count": 6,
   "id": "b02e8a43",
   "metadata": {},
   "outputs": [],
   "source": [
    "# merge discharge onto SSC data by date\n",
    "SSC_spring = SSC_spring.merge(discharge, left_index=True, right_index=True, how='left')\n",
    "SSC_summer = SSC_summer.merge(discharge, left_index=True, right_index=True, how='left')"
   ]
  },
  {
   "cell_type": "code",
   "execution_count": 7,
   "id": "472a3b66",
   "metadata": {},
   "outputs": [],
   "source": [
    "# export to csv\n",
    "SSC_spring.to_csv('samples_spring_SSC_with_Q.csv')\n",
    "SSC_summer.to_csv('samples_summer_SSC_with_Q.csv')"
   ]
  },
  {
   "cell_type": "code",
   "execution_count": null,
   "id": "94855b89",
   "metadata": {},
   "outputs": [],
   "source": []
  }
 ],
 "metadata": {
  "kernelspec": {
   "display_name": "base",
   "language": "python",
   "name": "python3"
  },
  "language_info": {
   "codemirror_mode": {
    "name": "ipython",
    "version": 3
   },
   "file_extension": ".py",
   "mimetype": "text/x-python",
   "name": "python",
   "nbconvert_exporter": "python",
   "pygments_lexer": "ipython3",
   "version": "3.12.7"
  }
 },
 "nbformat": 4,
 "nbformat_minor": 5
}
